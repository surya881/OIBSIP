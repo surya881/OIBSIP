{
 "cells": [
  {
   "cell_type": "code",
   "execution_count": 19,
   "id": "5a64945f",
   "metadata": {
    "_cell_guid": "b1076dfc-b9ad-4769-8c92-a6c4dae69d19",
    "_uuid": "8f2839f25d086af736a60e9eeb907d3b93b6e0e5",
    "execution": {
     "iopub.execute_input": "2023-03-28T19:11:18.985436Z",
     "iopub.status.busy": "2023-03-28T19:11:18.984491Z",
     "iopub.status.idle": "2023-03-28T19:11:20.384904Z",
     "shell.execute_reply": "2023-03-28T19:11:20.383847Z"
    },
    "papermill": {
     "duration": 1.41194,
     "end_time": "2023-03-28T19:11:20.388452",
     "exception": false,
     "start_time": "2023-03-28T19:11:18.976512",
     "status": "completed"
    },
    "tags": []
   },
   "outputs": [],
   "source": [
    "# Importing libraries\n",
    "import pandas as pd\n",
    "from sklearn.linear_model import LinearRegression\n",
    "from sklearn.model_selection import train_test_split\n",
    "from sklearn.metrics import mean_squared_error\n",
    "import seaborn as sns\n",
    "import matplotlib.pyplot as plt\n",
    "import ipywidgets as widgets\n",
    "from IPython.display import display"
   ]
  },
  {
   "cell_type": "code",
   "execution_count": 20,
   "id": "01fa3cd3",
   "metadata": {
    "execution": {
     "iopub.execute_input": "2023-03-28T19:11:20.404776Z",
     "iopub.status.busy": "2023-03-28T19:11:20.404205Z",
     "iopub.status.idle": "2023-03-28T19:11:20.457834Z",
     "shell.execute_reply": "2023-03-28T19:11:20.456551Z"
    },
    "papermill": {
     "duration": 0.065847,
     "end_time": "2023-03-28T19:11:20.461985",
     "exception": false,
     "start_time": "2023-03-28T19:11:20.396138",
     "status": "completed"
    },
    "tags": []
   },
   "outputs": [
    {
     "data": {
      "text/html": [
       "<div>\n",
       "<style scoped>\n",
       "    .dataframe tbody tr th:only-of-type {\n",
       "        vertical-align: middle;\n",
       "    }\n",
       "\n",
       "    .dataframe tbody tr th {\n",
       "        vertical-align: top;\n",
       "    }\n",
       "\n",
       "    .dataframe thead th {\n",
       "        text-align: right;\n",
       "    }\n",
       "</style>\n",
       "<table border=\"1\" class=\"dataframe\">\n",
       "  <thead>\n",
       "    <tr style=\"text-align: right;\">\n",
       "      <th></th>\n",
       "      <th>TV</th>\n",
       "      <th>Radio</th>\n",
       "      <th>Newspaper</th>\n",
       "      <th>Sales</th>\n",
       "    </tr>\n",
       "  </thead>\n",
       "  <tbody>\n",
       "    <tr>\n",
       "      <th>0</th>\n",
       "      <td>230.1</td>\n",
       "      <td>37.8</td>\n",
       "      <td>69.2</td>\n",
       "      <td>22.1</td>\n",
       "    </tr>\n",
       "    <tr>\n",
       "      <th>1</th>\n",
       "      <td>44.5</td>\n",
       "      <td>39.3</td>\n",
       "      <td>45.1</td>\n",
       "      <td>10.4</td>\n",
       "    </tr>\n",
       "    <tr>\n",
       "      <th>2</th>\n",
       "      <td>17.2</td>\n",
       "      <td>45.9</td>\n",
       "      <td>69.3</td>\n",
       "      <td>9.3</td>\n",
       "    </tr>\n",
       "    <tr>\n",
       "      <th>3</th>\n",
       "      <td>151.5</td>\n",
       "      <td>41.3</td>\n",
       "      <td>58.5</td>\n",
       "      <td>18.5</td>\n",
       "    </tr>\n",
       "    <tr>\n",
       "      <th>4</th>\n",
       "      <td>180.8</td>\n",
       "      <td>10.8</td>\n",
       "      <td>58.4</td>\n",
       "      <td>12.9</td>\n",
       "    </tr>\n",
       "    <tr>\n",
       "      <th>...</th>\n",
       "      <td>...</td>\n",
       "      <td>...</td>\n",
       "      <td>...</td>\n",
       "      <td>...</td>\n",
       "    </tr>\n",
       "    <tr>\n",
       "      <th>195</th>\n",
       "      <td>38.2</td>\n",
       "      <td>3.7</td>\n",
       "      <td>13.8</td>\n",
       "      <td>7.6</td>\n",
       "    </tr>\n",
       "    <tr>\n",
       "      <th>196</th>\n",
       "      <td>94.2</td>\n",
       "      <td>4.9</td>\n",
       "      <td>8.1</td>\n",
       "      <td>9.7</td>\n",
       "    </tr>\n",
       "    <tr>\n",
       "      <th>197</th>\n",
       "      <td>177.0</td>\n",
       "      <td>9.3</td>\n",
       "      <td>6.4</td>\n",
       "      <td>12.8</td>\n",
       "    </tr>\n",
       "    <tr>\n",
       "      <th>198</th>\n",
       "      <td>283.6</td>\n",
       "      <td>42.0</td>\n",
       "      <td>66.2</td>\n",
       "      <td>25.5</td>\n",
       "    </tr>\n",
       "    <tr>\n",
       "      <th>199</th>\n",
       "      <td>232.1</td>\n",
       "      <td>8.6</td>\n",
       "      <td>8.7</td>\n",
       "      <td>13.4</td>\n",
       "    </tr>\n",
       "  </tbody>\n",
       "</table>\n",
       "<p>200 rows × 4 columns</p>\n",
       "</div>"
      ],
      "text/plain": [
       "        TV  Radio  Newspaper  Sales\n",
       "0    230.1   37.8       69.2   22.1\n",
       "1     44.5   39.3       45.1   10.4\n",
       "2     17.2   45.9       69.3    9.3\n",
       "3    151.5   41.3       58.5   18.5\n",
       "4    180.8   10.8       58.4   12.9\n",
       "..     ...    ...        ...    ...\n",
       "195   38.2    3.7       13.8    7.6\n",
       "196   94.2    4.9        8.1    9.7\n",
       "197  177.0    9.3        6.4   12.8\n",
       "198  283.6   42.0       66.2   25.5\n",
       "199  232.1    8.6        8.7   13.4\n",
       "\n",
       "[200 rows x 4 columns]"
      ]
     },
     "execution_count": 20,
     "metadata": {},
     "output_type": "execute_result"
    }
   ],
   "source": [
    "# Reading the dataset\n",
    "df=pd.read_csv(\"Advertising.csv\")\n",
    "df=df.drop('Unnamed: 0', axis=1)\n",
    "df"
   ]
  },
  {
   "cell_type": "code",
   "execution_count": 21,
   "id": "42b96e23",
   "metadata": {
    "execution": {
     "iopub.execute_input": "2023-03-28T19:11:20.480711Z",
     "iopub.status.busy": "2023-03-28T19:11:20.479499Z",
     "iopub.status.idle": "2023-03-28T19:11:20.503233Z",
     "shell.execute_reply": "2023-03-28T19:11:20.501525Z"
    },
    "papermill": {
     "duration": 0.036188,
     "end_time": "2023-03-28T19:11:20.506279",
     "exception": false,
     "start_time": "2023-03-28T19:11:20.470091",
     "status": "completed"
    },
    "tags": []
   },
   "outputs": [
    {
     "name": "stdout",
     "output_type": "stream",
     "text": [
      "<class 'pandas.core.frame.DataFrame'>\n",
      "RangeIndex: 200 entries, 0 to 199\n",
      "Data columns (total 4 columns):\n",
      " #   Column     Non-Null Count  Dtype  \n",
      "---  ------     --------------  -----  \n",
      " 0   TV         200 non-null    float64\n",
      " 1   Radio      200 non-null    float64\n",
      " 2   Newspaper  200 non-null    float64\n",
      " 3   Sales      200 non-null    float64\n",
      "dtypes: float64(4)\n",
      "memory usage: 6.4 KB\n"
     ]
    }
   ],
   "source": [
    "#checking datatypes and values.\n",
    "df.info()"
   ]
  },
  {
   "cell_type": "code",
   "execution_count": 22,
   "id": "5211bfe2",
   "metadata": {
    "execution": {
     "iopub.execute_input": "2023-03-28T19:11:20.524494Z",
     "iopub.status.busy": "2023-03-28T19:11:20.524047Z",
     "iopub.status.idle": "2023-03-28T19:11:20.530505Z",
     "shell.execute_reply": "2023-03-28T19:11:20.529488Z"
    },
    "papermill": {
     "duration": 0.019098,
     "end_time": "2023-03-28T19:11:20.533429",
     "exception": false,
     "start_time": "2023-03-28T19:11:20.514331",
     "status": "completed"
    },
    "tags": []
   },
   "outputs": [
    {
     "data": {
      "text/plain": [
       "(200, 4)"
      ]
     },
     "execution_count": 22,
     "metadata": {},
     "output_type": "execute_result"
    }
   ],
   "source": [
    "#Checking entries and colimn number\n",
    "df.shape"
   ]
  },
  {
   "cell_type": "code",
   "execution_count": 23,
   "id": "a8031c5f",
   "metadata": {
    "execution": {
     "iopub.execute_input": "2023-03-28T19:11:20.552499Z",
     "iopub.status.busy": "2023-03-28T19:11:20.551472Z",
     "iopub.status.idle": "2023-03-28T19:11:20.562497Z",
     "shell.execute_reply": "2023-03-28T19:11:20.561235Z"
    },
    "papermill": {
     "duration": 0.023882,
     "end_time": "2023-03-28T19:11:20.565640",
     "exception": false,
     "start_time": "2023-03-28T19:11:20.541758",
     "status": "completed"
    },
    "tags": []
   },
   "outputs": [
    {
     "data": {
      "text/plain": [
       "TV           0\n",
       "Radio        0\n",
       "Newspaper    0\n",
       "Sales        0\n",
       "dtype: int64"
      ]
     },
     "execution_count": 23,
     "metadata": {},
     "output_type": "execute_result"
    }
   ],
   "source": [
    "#Checking for null values\n",
    "df.isnull().sum()"
   ]
  },
  {
   "cell_type": "code",
   "execution_count": 24,
   "id": "a7be8a85",
   "metadata": {
    "execution": {
     "iopub.execute_input": "2023-03-28T19:11:20.584662Z",
     "iopub.status.busy": "2023-03-28T19:11:20.583475Z",
     "iopub.status.idle": "2023-03-28T19:11:20.616120Z",
     "shell.execute_reply": "2023-03-28T19:11:20.614716Z"
    },
    "papermill": {
     "duration": 0.044792,
     "end_time": "2023-03-28T19:11:20.619020",
     "exception": false,
     "start_time": "2023-03-28T19:11:20.574228",
     "status": "completed"
    },
    "tags": []
   },
   "outputs": [
    {
     "data": {
      "text/html": [
       "<div>\n",
       "<style scoped>\n",
       "    .dataframe tbody tr th:only-of-type {\n",
       "        vertical-align: middle;\n",
       "    }\n",
       "\n",
       "    .dataframe tbody tr th {\n",
       "        vertical-align: top;\n",
       "    }\n",
       "\n",
       "    .dataframe thead th {\n",
       "        text-align: right;\n",
       "    }\n",
       "</style>\n",
       "<table border=\"1\" class=\"dataframe\">\n",
       "  <thead>\n",
       "    <tr style=\"text-align: right;\">\n",
       "      <th></th>\n",
       "      <th>TV</th>\n",
       "      <th>Radio</th>\n",
       "      <th>Newspaper</th>\n",
       "      <th>Sales</th>\n",
       "    </tr>\n",
       "  </thead>\n",
       "  <tbody>\n",
       "    <tr>\n",
       "      <th>count</th>\n",
       "      <td>200.000000</td>\n",
       "      <td>200.000000</td>\n",
       "      <td>200.000000</td>\n",
       "      <td>200.000000</td>\n",
       "    </tr>\n",
       "    <tr>\n",
       "      <th>mean</th>\n",
       "      <td>147.042500</td>\n",
       "      <td>23.264000</td>\n",
       "      <td>30.554000</td>\n",
       "      <td>14.022500</td>\n",
       "    </tr>\n",
       "    <tr>\n",
       "      <th>std</th>\n",
       "      <td>85.854236</td>\n",
       "      <td>14.846809</td>\n",
       "      <td>21.778621</td>\n",
       "      <td>5.217457</td>\n",
       "    </tr>\n",
       "    <tr>\n",
       "      <th>min</th>\n",
       "      <td>0.700000</td>\n",
       "      <td>0.000000</td>\n",
       "      <td>0.300000</td>\n",
       "      <td>1.600000</td>\n",
       "    </tr>\n",
       "    <tr>\n",
       "      <th>25%</th>\n",
       "      <td>74.375000</td>\n",
       "      <td>9.975000</td>\n",
       "      <td>12.750000</td>\n",
       "      <td>10.375000</td>\n",
       "    </tr>\n",
       "    <tr>\n",
       "      <th>50%</th>\n",
       "      <td>149.750000</td>\n",
       "      <td>22.900000</td>\n",
       "      <td>25.750000</td>\n",
       "      <td>12.900000</td>\n",
       "    </tr>\n",
       "    <tr>\n",
       "      <th>75%</th>\n",
       "      <td>218.825000</td>\n",
       "      <td>36.525000</td>\n",
       "      <td>45.100000</td>\n",
       "      <td>17.400000</td>\n",
       "    </tr>\n",
       "    <tr>\n",
       "      <th>max</th>\n",
       "      <td>296.400000</td>\n",
       "      <td>49.600000</td>\n",
       "      <td>114.000000</td>\n",
       "      <td>27.000000</td>\n",
       "    </tr>\n",
       "  </tbody>\n",
       "</table>\n",
       "</div>"
      ],
      "text/plain": [
       "               TV       Radio   Newspaper       Sales\n",
       "count  200.000000  200.000000  200.000000  200.000000\n",
       "mean   147.042500   23.264000   30.554000   14.022500\n",
       "std     85.854236   14.846809   21.778621    5.217457\n",
       "min      0.700000    0.000000    0.300000    1.600000\n",
       "25%     74.375000    9.975000   12.750000   10.375000\n",
       "50%    149.750000   22.900000   25.750000   12.900000\n",
       "75%    218.825000   36.525000   45.100000   17.400000\n",
       "max    296.400000   49.600000  114.000000   27.000000"
      ]
     },
     "execution_count": 24,
     "metadata": {},
     "output_type": "execute_result"
    }
   ],
   "source": [
    "# Displaying General stats\n",
    "df.describe()"
   ]
  },
  {
   "cell_type": "code",
   "execution_count": 25,
   "id": "ac5c38f4",
   "metadata": {
    "execution": {
     "iopub.execute_input": "2023-03-28T19:11:20.634213Z",
     "iopub.status.busy": "2023-03-28T19:11:20.633296Z",
     "iopub.status.idle": "2023-03-28T19:11:20.641412Z",
     "shell.execute_reply": "2023-03-28T19:11:20.640087Z"
    },
    "papermill": {
     "duration": 0.018635,
     "end_time": "2023-03-28T19:11:20.644462",
     "exception": false,
     "start_time": "2023-03-28T19:11:20.625827",
     "status": "completed"
    },
    "tags": []
   },
   "outputs": [
    {
     "data": {
      "text/plain": [
       "Index(['TV', 'Radio', 'Newspaper', 'Sales'], dtype='object')"
      ]
     },
     "execution_count": 25,
     "metadata": {},
     "output_type": "execute_result"
    }
   ],
   "source": [
    "# Printing columns\n",
    "df.keys()"
   ]
  },
  {
   "cell_type": "code",
   "execution_count": 26,
   "id": "fab5d8b0",
   "metadata": {
    "execution": {
     "iopub.execute_input": "2023-03-28T19:11:20.658931Z",
     "iopub.status.busy": "2023-03-28T19:11:20.658071Z",
     "iopub.status.idle": "2023-03-28T19:11:21.007552Z",
     "shell.execute_reply": "2023-03-28T19:11:21.006553Z"
    },
    "papermill": {
     "duration": 0.359901,
     "end_time": "2023-03-28T19:11:21.010259",
     "exception": false,
     "start_time": "2023-03-28T19:11:20.650358",
     "status": "completed"
    },
    "tags": []
   },
   "outputs": [
    {
     "data": {
      "image/png": "[encoded data removed]",
      "text/plain": [
       "<Figure size 640x480 with 2 Axes>"
      ]
     },
     "metadata": {},
     "output_type": "display_data"
    }
   ],
   "source": [
    "# Calculate the correlation matrix between all columns\n",
    "correlation_matrix = df.corr()\n",
    "\n",
    "# Create a heatmap of the correlation matrix\n",
    "sns.heatmap(correlation_matrix, annot=True, cmap='coolwarm')\n",
    "plt.show()"
   ]
  },
  {
   "cell_type": "markdown",
   "id": "3085d6f2",
   "metadata": {
    "papermill": {
     "duration": 0.00631,
     "end_time": "2023-03-28T19:11:21.022982",
     "exception": false,
     "start_time": "2023-03-28T19:11:21.016672",
     "status": "completed"
    },
    "tags": []
   },
   "source": [
    "### According to heatmap, The top highly Correlated attributes are:\n",
    "1. TV\n",
    "2. Radio\n",
    "3. Newspaper"
   ]
  },
  {
   "cell_type": "code",
   "execution_count": 27,
   "id": "4185d504",
   "metadata": {
    "execution": {
     "iopub.execute_input": "2023-03-28T19:11:21.038013Z",
     "iopub.status.busy": "2023-03-28T19:11:21.037288Z",
     "iopub.status.idle": "2023-03-28T19:11:21.590046Z",
     "shell.execute_reply": "2023-03-28T19:11:21.588603Z"
    },
    "papermill": {
     "duration": 0.563737,
     "end_time": "2023-03-28T19:11:21.593084",
     "exception": false,
     "start_time": "2023-03-28T19:11:21.029347",
     "status": "completed"
    },
    "tags": []
   },
   "outputs": [
    {
     "data": {
      "image/png": "[encoded data removed]",
      "text/plain": [
       "<Figure size 640x480 with 1 Axes>"
      ]
     },
     "metadata": {},
     "output_type": "display_data"
    },
    {
     "data": {
      "image/png": "[encoded data removed]",
      "text/plain": [
       "<Figure size 640x480 with 1 Axes>"
      ]
     },
     "metadata": {},
     "output_type": "display_data"
    },
    {
     "data": {
      "image/png": "[encoded data removed]",
      "text/plain": [
       "<Figure size 640x480 with 1 Axes>"
      ]
     },
     "metadata": {},
     "output_type": "display_data"
    }
   ],
   "source": [
    "# Create a line chart of each column with 'Sales'\n",
    "for col in df.columns:\n",
    "    if col != 'Sales':\n",
    "        plt.plot(df[col], df['Sales'], 'o')\n",
    "        plt.xlabel(col)\n",
    "        plt.ylabel('Sales')\n",
    "        plt.show()"
   ]
  },
  {
   "cell_type": "code",
   "execution_count": 28,
   "id": "2dbbfb27",
   "metadata": {
    "execution": {
     "iopub.execute_input": "2023-03-28T19:11:21.611398Z",
     "iopub.status.busy": "2023-03-28T19:11:21.610492Z",
     "iopub.status.idle": "2023-03-28T19:11:21.618572Z",
     "shell.execute_reply": "2023-03-28T19:11:21.617237Z"
    },
    "papermill": {
     "duration": 0.020486,
     "end_time": "2023-03-28T19:11:21.621527",
     "exception": false,
     "start_time": "2023-03-28T19:11:21.601041",
     "status": "completed"
    },
    "tags": []
   },
   "outputs": [],
   "source": [
    "import numpy as np\n",
    "# Drop any additional columns besides 'TV', 'Radio', 'Newspaper', and 'Sales'\n",
    "df = df[['TV', 'Radio', 'Newspaper', 'Sales']]"
   ]
  },
  {
   "cell_type": "code",
   "execution_count": 29,
   "id": "ee03102b",
   "metadata": {
    "execution": {
     "iopub.execute_input": "2023-03-28T19:11:21.639469Z",
     "iopub.status.busy": "2023-03-28T19:11:21.638988Z",
     "iopub.status.idle": "2023-03-28T19:11:21.649366Z",
     "shell.execute_reply": "2023-03-28T19:11:21.648040Z"
    },
    "papermill": {
     "duration": 0.022381,
     "end_time": "2023-03-28T19:11:21.651968",
     "exception": false,
     "start_time": "2023-03-28T19:11:21.629587",
     "status": "completed"
    },
    "tags": []
   },
   "outputs": [],
   "source": [
    "# Add polynomial terms for 'TV' and 'Radio'\n",
    "df['TV_sq'] = df['TV']**2\n",
    "df['Radio_sq'] = df['Radio']**2\n",
    "\n",
    "# Add interaction term for 'TV' and 'Radio'\n",
    "df['TV_Radio'] = df['TV'] * df['Radio']\n",
    "\n",
    "# Create the feature matrix with the original features, polynomial terms, and interaction terms\n",
    "X = df[['TV', 'Radio', 'Newspaper', 'TV_sq', 'Radio_sq', 'TV_Radio']]"
   ]
  },
  {
   "cell_type": "code",
   "execution_count": 30,
   "id": "b1e73a5e",
   "metadata": {
    "execution": {
     "iopub.execute_input": "2023-03-28T19:11:21.669634Z",
     "iopub.status.busy": "2023-03-28T19:11:21.669226Z",
     "iopub.status.idle": "2023-03-28T19:11:21.675252Z",
     "shell.execute_reply": "2023-03-28T19:11:21.673976Z"
    },
    "papermill": {
     "duration": 0.018077,
     "end_time": "2023-03-28T19:11:21.677831",
     "exception": false,
     "start_time": "2023-03-28T19:11:21.659754",
     "status": "completed"
    },
    "tags": []
   },
   "outputs": [],
   "source": [
    "# Create the y dataframe with the sales data\n",
    "y = df[['Sales']].values\n"
   ]
  },
  {
   "cell_type": "code",
   "execution_count": 31,
   "id": "6368238c",
   "metadata": {
    "execution": {
     "iopub.execute_input": "2023-03-28T19:11:21.696623Z",
     "iopub.status.busy": "2023-03-28T19:11:21.696214Z",
     "iopub.status.idle": "2023-03-28T19:11:21.706428Z",
     "shell.execute_reply": "2023-03-28T19:11:21.705221Z"
    },
    "papermill": {
     "duration": 0.022162,
     "end_time": "2023-03-28T19:11:21.708975",
     "exception": false,
     "start_time": "2023-03-28T19:11:21.686813",
     "status": "completed"
    },
    "tags": []
   },
   "outputs": [],
   "source": [
    "# Split the data into training and testing sets\n",
    "X = df.drop('Sales', axis=1)\n",
    "y = df['Sales']\n",
    "X_train, X_test, y_train, y_test = train_test_split(X, y, test_size=0.3, random_state=42)\n"
   ]
  },
  {
   "cell_type": "code",
   "execution_count": 32,
   "id": "7287c79b",
   "metadata": {
    "execution": {
     "iopub.execute_input": "2023-03-28T19:11:21.727047Z",
     "iopub.status.busy": "2023-03-28T19:11:21.726581Z",
     "iopub.status.idle": "2023-03-28T19:11:21.755352Z",
     "shell.execute_reply": "2023-03-28T19:11:21.754073Z"
    },
    "papermill": {
     "duration": 0.040934,
     "end_time": "2023-03-28T19:11:21.758121",
     "exception": false,
     "start_time": "2023-03-28T19:11:21.717187",
     "status": "completed"
    },
    "tags": []
   },
   "outputs": [
    {
     "data": {
      "text/plain": [
       "LinearRegression()"
      ]
     },
     "execution_count": 32,
     "metadata": {},
     "output_type": "execute_result"
    }
   ],
   "source": [
    "# Fit a linear regression model with the interaction and polynomial terms as features\n",
    "model = LinearRegression()\n",
    "model.fit(X_train, y_train)"
   ]
  },
  {
   "cell_type": "code",
   "execution_count": 33,
   "id": "b9f0227d",
   "metadata": {
    "execution": {
     "iopub.execute_input": "2023-03-28T19:11:21.776130Z",
     "iopub.status.busy": "2023-03-28T19:11:21.775328Z",
     "iopub.status.idle": "2023-03-28T19:11:21.784732Z",
     "shell.execute_reply": "2023-03-28T19:11:21.783270Z"
    },
    "papermill": {
     "duration": 0.021012,
     "end_time": "2023-03-28T19:11:21.787062",
     "exception": false,
     "start_time": "2023-03-28T19:11:21.766050",
     "status": "completed"
    },
    "tags": []
   },
   "outputs": [
    {
     "name": "stdout",
     "output_type": "stream",
     "text": [
      "Mean squared error: 0.3694112644010054\n"
     ]
    }
   ],
   "source": [
    "# Evaluate the performance of the model on the testing data\n",
    "y_pred = model.predict(X_test)\n",
    "mse = mean_squared_error(y_test, y_pred)\n",
    "print('Mean squared error:', mse)"
   ]
  },
  {
   "cell_type": "code",
   "execution_count": 34,
   "id": "4701cfb8",
   "metadata": {
    "execution": {
     "iopub.execute_input": "2023-03-28T19:11:21.805625Z",
     "iopub.status.busy": "2023-03-28T19:11:21.805222Z",
     "iopub.status.idle": "2023-03-28T19:11:21.821908Z",
     "shell.execute_reply": "2023-03-28T19:11:21.819581Z"
    },
    "papermill": {
     "duration": 0.029049,
     "end_time": "2023-03-28T19:11:21.824348",
     "exception": false,
     "start_time": "2023-03-28T19:11:21.795299",
     "status": "completed"
    },
    "tags": []
   },
   "outputs": [
    {
     "name": "stdout",
     "output_type": "stream",
     "text": [
      "Predicted Sales:  4.8655388622811255\n"
     ]
    },
    {
     "name": "stderr",
     "output_type": "stream",
     "text": [
      "/Users/chinmayakumarpalo/opt/anaconda3/lib/python3.9/site-packages/sklearn/base.py:450: UserWarning: X does not have valid feature names, but StandardScaler was fitted with feature names\n",
      "  warnings.warn(\n",
      "/Users/chinmayakumarpalo/opt/anaconda3/lib/python3.9/site-packages/sklearn/base.py:450: UserWarning: X does not have valid feature names, but LinearRegression was fitted with feature names\n",
      "  warnings.warn(\n"
     ]
    }
   ],
   "source": [
    "from sklearn.preprocessing import StandardScaler\n",
    "\n",
    "# Define the scaler\n",
    "scaler = StandardScaler()\n",
    "\n",
    "# Scale the data\n",
    "scaled_data = scaler.fit_transform(df[['TV', 'Radio', 'Newspaper','TV_sq', 'Radio_sq', 'TV_Radio']])\n",
    "\n",
    "# Use the scaled data to fit the model and make predictions\n",
    "X_train, X_test, y_train, y_test = train_test_split(scaled_data, df['Sales'], test_size=0.3, random_state=42)\n",
    "\n",
    "# create new data to predict on\n",
    "new_data = [[100, 50, 25, 10000, 2500, 625]] # TV = 100, Radio = 50, Newspaper = 25\n",
    "\n",
    "# apply the same scaler used on the training data\n",
    "new_data_scaled = scaler.transform(new_data)\n",
    "\n",
    "# pass the preprocessed new data to the model for prediction\n",
    "y_pred = model.predict(new_data_scaled)\n",
    "\n",
    "print(\"Predicted Sales: \", y_pred[0])"
   ]
  },
  {
   "cell_type": "code",
   "execution_count": null,
   "id": "730c97b4",
   "metadata": {
    "papermill": {
     "duration": 0.007803,
     "end_time": "2023-03-28T19:11:21.840295",
     "exception": false,
     "start_time": "2023-03-28T19:11:21.832492",
     "status": "completed"
    },
    "tags": []
   },
   "outputs": [],
   "source": []
  }
 ],
 "metadata": {
  "kernelspec": {
   "display_name": "Python 3",
   "language": "python",
   "name": "python3"
  },
  "language_info": {
   "codemirror_mode": {
    "name": "ipython",
    "version": 3
   },
   "file_extension": ".py",
   "mimetype": "text/x-python",
   "name": "python",
   "nbconvert_exporter": "python",
   "pygments_lexer": "ipython3",
   "version": "3.9.13"
  },
  "papermill": {
   "default_parameters": {},
   "duration": 13.747125,
   "end_time": "2023-03-28T19:11:22.671311",
   "environment_variables": {},
   "exception": null,
   "input_path": "__notebook__.ipynb",
   "output_path": "__notebook__.ipynb",
   "parameters": {},
   "start_time": "2023-03-28T19:11:08.924186",
   "version": "2.4.0"
  }
 },
 "nbformat": 4,
 "nbformat_minor": 5
}
